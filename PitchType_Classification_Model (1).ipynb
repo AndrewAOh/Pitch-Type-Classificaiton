{
  "cells": [
    {
      "cell_type": "code",
      "execution_count": null,
      "metadata": {
        "colab": {
          "base_uri": "https://localhost:8080/"
        },
        "id": "KCE-PdY4pgGJ",
        "outputId": "d6b975d6-654f-4a16-867a-0c6a10e4c3a7"
      },
      "outputs": [
        {
          "output_type": "stream",
          "name": "stdout",
          "text": [
            "Drive already mounted at /content/drive; to attempt to forcibly remount, call drive.mount(\"/content/drive\", force_remount=True).\n"
          ]
        }
      ],
      "source": [
        "from google.colab import drive\n",
        "drive.mount('/content/drive')"
      ]
    },
    {
      "cell_type": "markdown",
      "source": [
        "# Read File"
      ],
      "metadata": {
        "id": "d0r0q8--3gYK"
      }
    },
    {
      "cell_type": "code",
      "execution_count": null,
      "metadata": {
        "id": "nYo8fEHzmH0f",
        "colab": {
          "base_uri": "https://localhost:8080/"
        },
        "outputId": "97135333-13df-44f4-d1c2-4fe246027929"
      },
      "outputs": [
        {
          "output_type": "stream",
          "name": "stderr",
          "text": [
            "<ipython-input-15-901df27cbefb>:7: DtypeWarning: Columns (27,92,93,94) have mixed types. Specify dtype option on import or set low_memory=False.\n",
            "  df = pd.read_csv(\"/content/drive/MyDrive/USC Baseball/Datasets/22_23_NCAA_Dataset.csv\")\n"
          ]
        }
      ],
      "source": [
        "import pandas as pd\n",
        "import glob\n",
        "import os\n",
        "import numpy as np\n",
        "\n",
        "# Full NCAA Dataset\n",
        "df = pd.read_csv(\"/content/drive/MyDrive/USC Baseball/Datasets/22_23_NCAA_Dataset.csv\")"
      ]
    },
    {
      "cell_type": "markdown",
      "source": [
        "# Data Processing\n",
        "\n"
      ],
      "metadata": {
        "id": "7H7UadQI3gBM"
      }
    },
    {
      "cell_type": "code",
      "execution_count": null,
      "metadata": {
        "id": "scSyyAwKmJ8W"
      },
      "outputs": [],
      "source": [
        "df2 = df.copy()\n",
        "validTeam = ['SOU_TRO', 'UCLA', 'IOW_HAW', 'PEN_NIT', 'ARI_WIL', 'VAN_COM', 'ARK_RAZ', 'WAK_DEA', 'DUK_BLU', 'WM_TRI', 'MIN_GOL', 'TUL_GRE', 'TCU_HFG', 'TEN_VOL', 'LSU_TIG']\n",
        "filtered_df = df2[df2['HomeTeam'].isin(validTeam)]"
      ]
    },
    {
      "cell_type": "code",
      "execution_count": null,
      "metadata": {
        "id": "pkf9j2mhXYfl"
      },
      "outputs": [],
      "source": [
        "cleandf = filtered_df[filtered_df['TaggedPitchType'].str.contains(\"Undefined|Other|,|Knuckleball|OneSeamFastBall\") == False]\n",
        "cleanD1 = cleandf[cleandf['Level'] == \"D1\"]\n",
        "df3 = cleanD1.dropna(subset=['RelSpeed', 'SpinRate', 'InducedVertBreak', 'HorzBreak'])\n",
        "\n",
        "# changes some tags to fit our definitions\n",
        "df3.loc[df3['InducedVertBreak'] < -10, 'TaggedPitchType'] = \"Curveball\"\n",
        "df3.loc[df3['InducedVertBreak'] > 19, 'TaggedPitchType'] = \"Fastball\"\n",
        "df3.loc[df3['SpinRate'] < 1400, 'TaggedPitchType'] = \"ChangeUp\""
      ]
    },
    {
      "cell_type": "code",
      "source": [
        "# Recodes pitch types into 5 different buckets\n",
        "\n",
        "# sinkers, 4 seam, 2 seam, 1 seam = fastball\n",
        "# cutters = sliders\n",
        "# splitter = changeup\n",
        "\n",
        "# creates list of conditions that determine whether TaggedPitchType is fastball/slider/changeup/curveball\n",
        "conditions = [\n",
        "    (df3['TaggedPitchType'].str.contains('Fastball|FourSeamFastBall|TwoSeamFastBall|OneSeamFastBall|Sinker')),  # fastballs\n",
        "    (df3['TaggedPitchType'].str.contains('Slider|Cutter')),  # sliders\n",
        "    (df3['TaggedPitchType'].str.contains('ChangeUp|Splitter')),  # changeups\n",
        "    (df3['TaggedPitchType'].str.contains('Curveball')) # curveballs\n",
        "]\n",
        "\n",
        "# creates a list of values to assign for pitch types\n",
        "values = [0, 1, 2, 3]\n",
        "# creates new column determining pitch type and assign values to it based on the conditions; assigns 4 if an other pitch\n",
        "df3['pitchType'] = np.select(conditions, values, default = 4)"
      ],
      "metadata": {
        "id": "DXyrp16JFdI1"
      },
      "execution_count": null,
      "outputs": []
    },
    {
      "cell_type": "markdown",
      "source": [
        "## Identification of Important Variables"
      ],
      "metadata": {
        "id": "daZN2egdFjse"
      }
    },
    {
      "cell_type": "code",
      "source": [
        "cleanRHP = df3[df3['PitcherThrows'] == \"Right\"]\n",
        "cleanLHP = df3[df3['PitcherThrows'] == \"Left\"]"
      ],
      "metadata": {
        "id": "vyu_Z9aIA3eo"
      },
      "execution_count": null,
      "outputs": []
    },
    {
      "cell_type": "code",
      "source": [
        "df4 = cleanRHP[['TaggedPitchType', 'RelSpeed', 'VertRelAngle', 'HorzRelAngle', 'SpinRate', 'SpinAxis', 'VertBreak', 'InducedVertBreak', 'HorzBreak', 'VertApprAngle', 'HorzApprAngle']].dropna()\n",
        "df4.corr()"
      ],
      "metadata": {
        "colab": {
          "base_uri": "https://localhost:8080/"
        },
        "id": "-ObL9xKVhx9A",
        "outputId": "057c725c-fbff-48fe-e552-58a9fe5b4b9c"
      },
      "execution_count": null,
      "outputs": [
        {
          "output_type": "stream",
          "name": "stderr",
          "text": [
            "<ipython-input-137-62e7f97ae881>:2: FutureWarning: The default value of numeric_only in DataFrame.corr is deprecated. In a future version, it will default to False. Select only valid columns or specify the value of numeric_only to silence this warning.\n",
            "  df4.corr()\n"
          ]
        },
        {
          "output_type": "execute_result",
          "data": {
            "text/plain": [
              "                  RelSpeed  VertRelAngle  HorzRelAngle  SpinRate  SpinAxis  \\\n",
              "RelSpeed          1.000000     -0.614900     -0.332697  0.077472  0.627208   \n",
              "VertRelAngle     -0.614900      1.000000      0.280765  0.053174 -0.444517   \n",
              "HorzRelAngle     -0.332697      0.280765      1.000000  0.178088 -0.458409   \n",
              "SpinRate          0.077472      0.053174      0.178088  1.000000 -0.419533   \n",
              "SpinAxis          0.627208     -0.444517     -0.458409 -0.419533  1.000000   \n",
              "VertBreak         0.887316     -0.690127     -0.288598 -0.054818  0.700395   \n",
              "InducedVertBreak  0.754476     -0.661045     -0.234566 -0.093030  0.660691   \n",
              "HorzBreak         0.626095     -0.421064     -0.500811 -0.389104  0.896072   \n",
              "VertApprAngle     0.697987     -0.093105     -0.153384 -0.018405  0.576124   \n",
              "HorzApprAngle     0.413768     -0.230352      0.284044 -0.281399  0.608371   \n",
              "\n",
              "                  VertBreak  InducedVertBreak  HorzBreak  VertApprAngle  \\\n",
              "RelSpeed           0.887316          0.754476   0.626095       0.697987   \n",
              "VertRelAngle      -0.690127         -0.661045  -0.421064      -0.093105   \n",
              "HorzRelAngle      -0.288598         -0.234566  -0.500811      -0.153384   \n",
              "SpinRate          -0.054818         -0.093030  -0.389104      -0.018405   \n",
              "SpinAxis           0.700395          0.660691   0.896072       0.576124   \n",
              "VertBreak          1.000000          0.968041   0.640678       0.784459   \n",
              "InducedVertBreak   0.968041          1.000000   0.578626       0.764816   \n",
              "HorzBreak          0.640678          0.578626   1.000000       0.514411   \n",
              "VertApprAngle      0.784459          0.764816   0.514411       1.000000   \n",
              "HorzApprAngle      0.467106          0.443680   0.687596       0.440901   \n",
              "\n",
              "                  HorzApprAngle  \n",
              "RelSpeed               0.413768  \n",
              "VertRelAngle          -0.230352  \n",
              "HorzRelAngle           0.284044  \n",
              "SpinRate              -0.281399  \n",
              "SpinAxis               0.608371  \n",
              "VertBreak              0.467106  \n",
              "InducedVertBreak       0.443680  \n",
              "HorzBreak              0.687596  \n",
              "VertApprAngle          0.440901  \n",
              "HorzApprAngle          1.000000  "
            ],
            "text/html": [
              "\n",
              "  <div id=\"df-958c1416-8319-4a98-8592-ee9bac4809d3\" class=\"colab-df-container\">\n",
              "    <div>\n",
              "<style scoped>\n",
              "    .dataframe tbody tr th:only-of-type {\n",
              "        vertical-align: middle;\n",
              "    }\n",
              "\n",
              "    .dataframe tbody tr th {\n",
              "        vertical-align: top;\n",
              "    }\n",
              "\n",
              "    .dataframe thead th {\n",
              "        text-align: right;\n",
              "    }\n",
              "</style>\n",
              "<table border=\"1\" class=\"dataframe\">\n",
              "  <thead>\n",
              "    <tr style=\"text-align: right;\">\n",
              "      <th></th>\n",
              "      <th>RelSpeed</th>\n",
              "      <th>VertRelAngle</th>\n",
              "      <th>HorzRelAngle</th>\n",
              "      <th>SpinRate</th>\n",
              "      <th>SpinAxis</th>\n",
              "      <th>VertBreak</th>\n",
              "      <th>InducedVertBreak</th>\n",
              "      <th>HorzBreak</th>\n",
              "      <th>VertApprAngle</th>\n",
              "      <th>HorzApprAngle</th>\n",
              "    </tr>\n",
              "  </thead>\n",
              "  <tbody>\n",
              "    <tr>\n",
              "      <th>RelSpeed</th>\n",
              "      <td>1.000000</td>\n",
              "      <td>-0.614900</td>\n",
              "      <td>-0.332697</td>\n",
              "      <td>0.077472</td>\n",
              "      <td>0.627208</td>\n",
              "      <td>0.887316</td>\n",
              "      <td>0.754476</td>\n",
              "      <td>0.626095</td>\n",
              "      <td>0.697987</td>\n",
              "      <td>0.413768</td>\n",
              "    </tr>\n",
              "    <tr>\n",
              "      <th>VertRelAngle</th>\n",
              "      <td>-0.614900</td>\n",
              "      <td>1.000000</td>\n",
              "      <td>0.280765</td>\n",
              "      <td>0.053174</td>\n",
              "      <td>-0.444517</td>\n",
              "      <td>-0.690127</td>\n",
              "      <td>-0.661045</td>\n",
              "      <td>-0.421064</td>\n",
              "      <td>-0.093105</td>\n",
              "      <td>-0.230352</td>\n",
              "    </tr>\n",
              "    <tr>\n",
              "      <th>HorzRelAngle</th>\n",
              "      <td>-0.332697</td>\n",
              "      <td>0.280765</td>\n",
              "      <td>1.000000</td>\n",
              "      <td>0.178088</td>\n",
              "      <td>-0.458409</td>\n",
              "      <td>-0.288598</td>\n",
              "      <td>-0.234566</td>\n",
              "      <td>-0.500811</td>\n",
              "      <td>-0.153384</td>\n",
              "      <td>0.284044</td>\n",
              "    </tr>\n",
              "    <tr>\n",
              "      <th>SpinRate</th>\n",
              "      <td>0.077472</td>\n",
              "      <td>0.053174</td>\n",
              "      <td>0.178088</td>\n",
              "      <td>1.000000</td>\n",
              "      <td>-0.419533</td>\n",
              "      <td>-0.054818</td>\n",
              "      <td>-0.093030</td>\n",
              "      <td>-0.389104</td>\n",
              "      <td>-0.018405</td>\n",
              "      <td>-0.281399</td>\n",
              "    </tr>\n",
              "    <tr>\n",
              "      <th>SpinAxis</th>\n",
              "      <td>0.627208</td>\n",
              "      <td>-0.444517</td>\n",
              "      <td>-0.458409</td>\n",
              "      <td>-0.419533</td>\n",
              "      <td>1.000000</td>\n",
              "      <td>0.700395</td>\n",
              "      <td>0.660691</td>\n",
              "      <td>0.896072</td>\n",
              "      <td>0.576124</td>\n",
              "      <td>0.608371</td>\n",
              "    </tr>\n",
              "    <tr>\n",
              "      <th>VertBreak</th>\n",
              "      <td>0.887316</td>\n",
              "      <td>-0.690127</td>\n",
              "      <td>-0.288598</td>\n",
              "      <td>-0.054818</td>\n",
              "      <td>0.700395</td>\n",
              "      <td>1.000000</td>\n",
              "      <td>0.968041</td>\n",
              "      <td>0.640678</td>\n",
              "      <td>0.784459</td>\n",
              "      <td>0.467106</td>\n",
              "    </tr>\n",
              "    <tr>\n",
              "      <th>InducedVertBreak</th>\n",
              "      <td>0.754476</td>\n",
              "      <td>-0.661045</td>\n",
              "      <td>-0.234566</td>\n",
              "      <td>-0.093030</td>\n",
              "      <td>0.660691</td>\n",
              "      <td>0.968041</td>\n",
              "      <td>1.000000</td>\n",
              "      <td>0.578626</td>\n",
              "      <td>0.764816</td>\n",
              "      <td>0.443680</td>\n",
              "    </tr>\n",
              "    <tr>\n",
              "      <th>HorzBreak</th>\n",
              "      <td>0.626095</td>\n",
              "      <td>-0.421064</td>\n",
              "      <td>-0.500811</td>\n",
              "      <td>-0.389104</td>\n",
              "      <td>0.896072</td>\n",
              "      <td>0.640678</td>\n",
              "      <td>0.578626</td>\n",
              "      <td>1.000000</td>\n",
              "      <td>0.514411</td>\n",
              "      <td>0.687596</td>\n",
              "    </tr>\n",
              "    <tr>\n",
              "      <th>VertApprAngle</th>\n",
              "      <td>0.697987</td>\n",
              "      <td>-0.093105</td>\n",
              "      <td>-0.153384</td>\n",
              "      <td>-0.018405</td>\n",
              "      <td>0.576124</td>\n",
              "      <td>0.784459</td>\n",
              "      <td>0.764816</td>\n",
              "      <td>0.514411</td>\n",
              "      <td>1.000000</td>\n",
              "      <td>0.440901</td>\n",
              "    </tr>\n",
              "    <tr>\n",
              "      <th>HorzApprAngle</th>\n",
              "      <td>0.413768</td>\n",
              "      <td>-0.230352</td>\n",
              "      <td>0.284044</td>\n",
              "      <td>-0.281399</td>\n",
              "      <td>0.608371</td>\n",
              "      <td>0.467106</td>\n",
              "      <td>0.443680</td>\n",
              "      <td>0.687596</td>\n",
              "      <td>0.440901</td>\n",
              "      <td>1.000000</td>\n",
              "    </tr>\n",
              "  </tbody>\n",
              "</table>\n",
              "</div>\n",
              "    <div class=\"colab-df-buttons\">\n",
              "\n",
              "  <div class=\"colab-df-container\">\n",
              "    <button class=\"colab-df-convert\" onclick=\"convertToInteractive('df-958c1416-8319-4a98-8592-ee9bac4809d3')\"\n",
              "            title=\"Convert this dataframe to an interactive table.\"\n",
              "            style=\"display:none;\">\n",
              "\n",
              "  <svg xmlns=\"http://www.w3.org/2000/svg\" height=\"24px\" viewBox=\"0 -960 960 960\">\n",
              "    <path d=\"M120-120v-720h720v720H120Zm60-500h600v-160H180v160Zm220 220h160v-160H400v160Zm0 220h160v-160H400v160ZM180-400h160v-160H180v160Zm440 0h160v-160H620v160ZM180-180h160v-160H180v160Zm440 0h160v-160H620v160Z\"/>\n",
              "  </svg>\n",
              "    </button>\n",
              "\n",
              "  <style>\n",
              "    .colab-df-container {\n",
              "      display:flex;\n",
              "      gap: 12px;\n",
              "    }\n",
              "\n",
              "    .colab-df-convert {\n",
              "      background-color: #E8F0FE;\n",
              "      border: none;\n",
              "      border-radius: 50%;\n",
              "      cursor: pointer;\n",
              "      display: none;\n",
              "      fill: #1967D2;\n",
              "      height: 32px;\n",
              "      padding: 0 0 0 0;\n",
              "      width: 32px;\n",
              "    }\n",
              "\n",
              "    .colab-df-convert:hover {\n",
              "      background-color: #E2EBFA;\n",
              "      box-shadow: 0px 1px 2px rgba(60, 64, 67, 0.3), 0px 1px 3px 1px rgba(60, 64, 67, 0.15);\n",
              "      fill: #174EA6;\n",
              "    }\n",
              "\n",
              "    .colab-df-buttons div {\n",
              "      margin-bottom: 4px;\n",
              "    }\n",
              "\n",
              "    [theme=dark] .colab-df-convert {\n",
              "      background-color: #3B4455;\n",
              "      fill: #D2E3FC;\n",
              "    }\n",
              "\n",
              "    [theme=dark] .colab-df-convert:hover {\n",
              "      background-color: #434B5C;\n",
              "      box-shadow: 0px 1px 3px 1px rgba(0, 0, 0, 0.15);\n",
              "      filter: drop-shadow(0px 1px 2px rgba(0, 0, 0, 0.3));\n",
              "      fill: #FFFFFF;\n",
              "    }\n",
              "  </style>\n",
              "\n",
              "    <script>\n",
              "      const buttonEl =\n",
              "        document.querySelector('#df-958c1416-8319-4a98-8592-ee9bac4809d3 button.colab-df-convert');\n",
              "      buttonEl.style.display =\n",
              "        google.colab.kernel.accessAllowed ? 'block' : 'none';\n",
              "\n",
              "      async function convertToInteractive(key) {\n",
              "        const element = document.querySelector('#df-958c1416-8319-4a98-8592-ee9bac4809d3');\n",
              "        const dataTable =\n",
              "          await google.colab.kernel.invokeFunction('convertToInteractive',\n",
              "                                                    [key], {});\n",
              "        if (!dataTable) return;\n",
              "\n",
              "        const docLinkHtml = 'Like what you see? Visit the ' +\n",
              "          '<a target=\"_blank\" href=https://colab.research.google.com/notebooks/data_table.ipynb>data table notebook</a>'\n",
              "          + ' to learn more about interactive tables.';\n",
              "        element.innerHTML = '';\n",
              "        dataTable['output_type'] = 'display_data';\n",
              "        await google.colab.output.renderOutput(dataTable, element);\n",
              "        const docLink = document.createElement('div');\n",
              "        docLink.innerHTML = docLinkHtml;\n",
              "        element.appendChild(docLink);\n",
              "      }\n",
              "    </script>\n",
              "  </div>\n",
              "\n",
              "\n",
              "<div id=\"df-d9c3e557-f3c9-422a-b01d-bf9a5b635bf1\">\n",
              "  <button class=\"colab-df-quickchart\" onclick=\"quickchart('df-d9c3e557-f3c9-422a-b01d-bf9a5b635bf1')\"\n",
              "            title=\"Suggest charts\"\n",
              "            style=\"display:none;\">\n",
              "\n",
              "<svg xmlns=\"http://www.w3.org/2000/svg\" height=\"24px\"viewBox=\"0 0 24 24\"\n",
              "     width=\"24px\">\n",
              "    <g>\n",
              "        <path d=\"M19 3H5c-1.1 0-2 .9-2 2v14c0 1.1.9 2 2 2h14c1.1 0 2-.9 2-2V5c0-1.1-.9-2-2-2zM9 17H7v-7h2v7zm4 0h-2V7h2v10zm4 0h-2v-4h2v4z\"/>\n",
              "    </g>\n",
              "</svg>\n",
              "  </button>\n",
              "\n",
              "<style>\n",
              "  .colab-df-quickchart {\n",
              "      --bg-color: #E8F0FE;\n",
              "      --fill-color: #1967D2;\n",
              "      --hover-bg-color: #E2EBFA;\n",
              "      --hover-fill-color: #174EA6;\n",
              "      --disabled-fill-color: #AAA;\n",
              "      --disabled-bg-color: #DDD;\n",
              "  }\n",
              "\n",
              "  [theme=dark] .colab-df-quickchart {\n",
              "      --bg-color: #3B4455;\n",
              "      --fill-color: #D2E3FC;\n",
              "      --hover-bg-color: #434B5C;\n",
              "      --hover-fill-color: #FFFFFF;\n",
              "      --disabled-bg-color: #3B4455;\n",
              "      --disabled-fill-color: #666;\n",
              "  }\n",
              "\n",
              "  .colab-df-quickchart {\n",
              "    background-color: var(--bg-color);\n",
              "    border: none;\n",
              "    border-radius: 50%;\n",
              "    cursor: pointer;\n",
              "    display: none;\n",
              "    fill: var(--fill-color);\n",
              "    height: 32px;\n",
              "    padding: 0;\n",
              "    width: 32px;\n",
              "  }\n",
              "\n",
              "  .colab-df-quickchart:hover {\n",
              "    background-color: var(--hover-bg-color);\n",
              "    box-shadow: 0 1px 2px rgba(60, 64, 67, 0.3), 0 1px 3px 1px rgba(60, 64, 67, 0.15);\n",
              "    fill: var(--button-hover-fill-color);\n",
              "  }\n",
              "\n",
              "  .colab-df-quickchart-complete:disabled,\n",
              "  .colab-df-quickchart-complete:disabled:hover {\n",
              "    background-color: var(--disabled-bg-color);\n",
              "    fill: var(--disabled-fill-color);\n",
              "    box-shadow: none;\n",
              "  }\n",
              "\n",
              "  .colab-df-spinner {\n",
              "    border: 2px solid var(--fill-color);\n",
              "    border-color: transparent;\n",
              "    border-bottom-color: var(--fill-color);\n",
              "    animation:\n",
              "      spin 1s steps(1) infinite;\n",
              "  }\n",
              "\n",
              "  @keyframes spin {\n",
              "    0% {\n",
              "      border-color: transparent;\n",
              "      border-bottom-color: var(--fill-color);\n",
              "      border-left-color: var(--fill-color);\n",
              "    }\n",
              "    20% {\n",
              "      border-color: transparent;\n",
              "      border-left-color: var(--fill-color);\n",
              "      border-top-color: var(--fill-color);\n",
              "    }\n",
              "    30% {\n",
              "      border-color: transparent;\n",
              "      border-left-color: var(--fill-color);\n",
              "      border-top-color: var(--fill-color);\n",
              "      border-right-color: var(--fill-color);\n",
              "    }\n",
              "    40% {\n",
              "      border-color: transparent;\n",
              "      border-right-color: var(--fill-color);\n",
              "      border-top-color: var(--fill-color);\n",
              "    }\n",
              "    60% {\n",
              "      border-color: transparent;\n",
              "      border-right-color: var(--fill-color);\n",
              "    }\n",
              "    80% {\n",
              "      border-color: transparent;\n",
              "      border-right-color: var(--fill-color);\n",
              "      border-bottom-color: var(--fill-color);\n",
              "    }\n",
              "    90% {\n",
              "      border-color: transparent;\n",
              "      border-bottom-color: var(--fill-color);\n",
              "    }\n",
              "  }\n",
              "</style>\n",
              "\n",
              "  <script>\n",
              "    async function quickchart(key) {\n",
              "      const quickchartButtonEl =\n",
              "        document.querySelector('#' + key + ' button');\n",
              "      quickchartButtonEl.disabled = true;  // To prevent multiple clicks.\n",
              "      quickchartButtonEl.classList.add('colab-df-spinner');\n",
              "      try {\n",
              "        const charts = await google.colab.kernel.invokeFunction(\n",
              "            'suggestCharts', [key], {});\n",
              "      } catch (error) {\n",
              "        console.error('Error during call to suggestCharts:', error);\n",
              "      }\n",
              "      quickchartButtonEl.classList.remove('colab-df-spinner');\n",
              "      quickchartButtonEl.classList.add('colab-df-quickchart-complete');\n",
              "    }\n",
              "    (() => {\n",
              "      let quickchartButtonEl =\n",
              "        document.querySelector('#df-d9c3e557-f3c9-422a-b01d-bf9a5b635bf1 button');\n",
              "      quickchartButtonEl.style.display =\n",
              "        google.colab.kernel.accessAllowed ? 'block' : 'none';\n",
              "    })();\n",
              "  </script>\n",
              "</div>\n",
              "    </div>\n",
              "  </div>\n"
            ],
            "application/vnd.google.colaboratory.intrinsic+json": {
              "type": "dataframe",
              "summary": "{\n  \"name\": \"df4\",\n  \"rows\": 10,\n  \"fields\": [\n    {\n      \"column\": \"RelSpeed\",\n      \"properties\": {\n        \"dtype\": \"number\",\n        \"std\": 0.5358150700917856,\n        \"min\": -0.6148997694175791,\n        \"max\": 1.0,\n        \"samples\": [\n          0.6979874217268223,\n          -0.6148997694175791,\n          0.887315721612123\n        ],\n        \"num_unique_values\": 10,\n        \"semantic_type\": \"\",\n        \"description\": \"\"\n      }\n    },\n    {\n      \"column\": \"VertRelAngle\",\n      \"properties\": {\n        \"dtype\": \"number\",\n        \"std\": 0.5247188620477382,\n        \"min\": -0.6901268782964889,\n        \"max\": 1.0,\n        \"samples\": [\n          -0.0931049785232845,\n          1.0,\n          -0.6901268782964889\n        ],\n        \"num_unique_values\": 10,\n        \"semantic_type\": \"\",\n        \"description\": \"\"\n      }\n    },\n    {\n      \"column\": \"HorzRelAngle\",\n      \"properties\": {\n        \"dtype\": \"number\",\n        \"std\": 0.46183346888179827,\n        \"min\": -0.5008106437538505,\n        \"max\": 1.0,\n        \"samples\": [\n          -0.1533837782000491,\n          0.2807652790620787,\n          -0.28859842206147457\n        ],\n        \"num_unique_values\": 10,\n        \"semantic_type\": \"\",\n        \"description\": \"\"\n      }\n    },\n    {\n      \"column\": \"SpinRate\",\n      \"properties\": {\n        \"dtype\": \"number\",\n        \"std\": 0.4026114389648567,\n        \"min\": -0.4195334029422119,\n        \"max\": 1.0,\n        \"samples\": [\n          -0.018404986428442863,\n          0.053173818297861844,\n          -0.054817949100029593\n        ],\n        \"num_unique_values\": 10,\n        \"semantic_type\": \"\",\n        \"description\": \"\"\n      }\n    },\n    {\n      \"column\": \"SpinAxis\",\n      \"properties\": {\n        \"dtype\": \"number\",\n        \"std\": 0.5778912470575864,\n        \"min\": -0.45840856206539343,\n        \"max\": 1.0,\n        \"samples\": [\n          0.5761238712636738,\n          -0.4445173027732886,\n          0.7003950391413277\n        ],\n        \"num_unique_values\": 10,\n        \"semantic_type\": \"\",\n        \"description\": \"\"\n      }\n    },\n    {\n      \"column\": \"VertBreak\",\n      \"properties\": {\n        \"dtype\": \"number\",\n        \"std\": 0.5843181202385419,\n        \"min\": -0.6901268782964889,\n        \"max\": 1.0,\n        \"samples\": [\n          0.7844593919461433,\n          -0.6901268782964889,\n          1.0\n        ],\n        \"num_unique_values\": 10,\n        \"semantic_type\": \"\",\n        \"description\": \"\"\n      }\n    },\n    {\n      \"column\": \"InducedVertBreak\",\n      \"properties\": {\n        \"dtype\": \"number\",\n        \"std\": 0.5589134871329966,\n        \"min\": -0.6610452959223614,\n        \"max\": 1.0,\n        \"samples\": [\n          0.7648159217046783,\n          -0.6610452959223614,\n          0.9680409182314699\n        ],\n        \"num_unique_values\": 10,\n        \"semantic_type\": \"\",\n        \"description\": \"\"\n      }\n    },\n    {\n      \"column\": \"HorzBreak\",\n      \"properties\": {\n        \"dtype\": \"number\",\n        \"std\": 0.5713167370491058,\n        \"min\": -0.5008106437538505,\n        \"max\": 1.0,\n        \"samples\": [\n          0.5144108592603637,\n          -0.42106391923323766,\n          0.6406775738296269\n        ],\n        \"num_unique_values\": 10,\n        \"semantic_type\": \"\",\n        \"description\": \"\"\n      }\n    },\n    {\n      \"column\": \"VertApprAngle\",\n      \"properties\": {\n        \"dtype\": \"number\",\n        \"std\": 0.40462985327014883,\n        \"min\": -0.1533837782000491,\n        \"max\": 1.0,\n        \"samples\": [\n          1.0,\n          -0.0931049785232845,\n          0.7844593919461433\n        ],\n        \"num_unique_values\": 10,\n        \"semantic_type\": \"\",\n        \"description\": \"\"\n      }\n    },\n    {\n      \"column\": \"HorzApprAngle\",\n      \"properties\": {\n        \"dtype\": \"number\",\n        \"std\": 0.389691216539147,\n        \"min\": -0.28139939836181194,\n        \"max\": 1.0,\n        \"samples\": [\n          0.4409012193649343,\n          -0.23035203813200783,\n          0.4671062239350348\n        ],\n        \"num_unique_values\": 10,\n        \"semantic_type\": \"\",\n        \"description\": \"\"\n      }\n    }\n  ]\n}"
            }
          },
          "metadata": {},
          "execution_count": 137
        }
      ]
    },
    {
      "cell_type": "code",
      "source": [
        "df6 = df4.corr()\n",
        "csv = df6.to_csv(\"/content/drive/Shareddrives/USC Baseball/ML Stuff/PitchTypeCorr*.csv\", index=False)"
      ],
      "metadata": {
        "id": "KUBnTgjFhlGF",
        "colab": {
          "base_uri": "https://localhost:8080/"
        },
        "outputId": "ae8e55b8-7fee-4f6f-9a90-a50ae6bdeae8"
      },
      "execution_count": null,
      "outputs": [
        {
          "output_type": "stream",
          "name": "stderr",
          "text": [
            "<ipython-input-138-f5520100698e>:1: FutureWarning: The default value of numeric_only in DataFrame.corr is deprecated. In a future version, it will default to False. Select only valid columns or specify the value of numeric_only to silence this warning.\n",
            "  df6 = df4.corr()\n"
          ]
        }
      ]
    },
    {
      "cell_type": "markdown",
      "source": [
        "Determines the Mean, STD, Median, 25th %, and 75th% of Variables Grouped by double or Not double"
      ],
      "metadata": {
        "id": "YicOdLfMmjvi"
      }
    },
    {
      "cell_type": "code",
      "source": [
        "df5 = cleanLHP[['pitchType', 'RelSpeed', 'VertRelAngle', 'HorzRelAngle', 'SpinRate', 'SpinAxis', 'VertBreak', 'InducedVertBreak', 'HorzBreak', 'VertApprAngle', 'HorzApprAngle']].dropna()"
      ],
      "metadata": {
        "id": "nhN2REBrLveL"
      },
      "execution_count": null,
      "outputs": []
    },
    {
      "cell_type": "code",
      "source": [
        "def compute_statistics_by_target(df5, target_column, predictor_columns):\n",
        "    # Group the dataframe by the target variable\n",
        "    grouped = df5.groupby(target_column)\n",
        "\n",
        "    # Initialize an empty list to store rows\n",
        "    rows = []\n",
        "\n",
        "    for target_value, group in grouped:\n",
        "        # Calculate the statistics for each predictor column\n",
        "        means = group[predictor_columns].mean(numeric_only=True)\n",
        "        std_devs = group[predictor_columns].std(numeric_only=True)\n",
        "        medians = group[predictor_columns].median(numeric_only=True)\n",
        "        percentile_25 = group[predictor_columns].quantile(0.25, numeric_only=True)\n",
        "        percentile_75 = group[predictor_columns].quantile(0.75, numeric_only=True)\n",
        "\n",
        "        # Combine the statistics into a single row\n",
        "        row = list(means) + list(std_devs) + list(medians) + list(percentile_25) + list(percentile_75)\n",
        "\n",
        "        print(\"Length of row:\", len(row))  # Print the length of the row\n",
        "        rows.append(row)\n",
        "\n",
        "    # Generate column names for the DataFrame\n",
        "    column_names = [f\"{stat}_{col}\" for stat in ['Mean', 'Std_Dev', 'Median', 'Percentile_25', 'Percentile_75'] for col in predictor_columns]\n",
        "\n",
        "    print(\"Length of column names:\", len(column_names))  # Print the length of column names\n",
        "\n",
        "    # Create a DataFrame from the list of rows\n",
        "    statistics_df = pd.DataFrame(rows, index=grouped.groups.keys(), columns=column_names)\n",
        "\n",
        "    return statistics_df\n",
        "\n",
        "# Example usage:\n",
        "target_column_name = 'pitchType'\n",
        "predictor_columns_list = ['RelSpeed', 'VertRelAngle', 'HorzRelAngle', 'SpinRate', 'SpinAxis', 'VertBreak', 'InducedVertBreak', 'HorzBreak', 'VertApprAngle', 'HorzApprAngle']\n",
        "statistics_table = compute_statistics_by_target(df5, target_column_name, predictor_columns_list)\n",
        "\n",
        "print(statistics_table)\n"
      ],
      "metadata": {
        "id": "Twt26mE6mfMf",
        "colab": {
          "base_uri": "https://localhost:8080/"
        },
        "outputId": "5986ed56-f957-4fc0-e5d8-cfad15b84b37"
      },
      "execution_count": null,
      "outputs": [
        {
          "output_type": "stream",
          "name": "stdout",
          "text": [
            "Length of column names: 50\n",
            "Empty DataFrame\n",
            "Columns: [Mean_RelSpeed, Mean_VertRelAngle, Mean_HorzRelAngle, Mean_SpinRate, Mean_SpinAxis, Mean_VertBreak, Mean_InducedVertBreak, Mean_HorzBreak, Mean_VertApprAngle, Mean_HorzApprAngle, Std_Dev_RelSpeed, Std_Dev_VertRelAngle, Std_Dev_HorzRelAngle, Std_Dev_SpinRate, Std_Dev_SpinAxis, Std_Dev_VertBreak, Std_Dev_InducedVertBreak, Std_Dev_HorzBreak, Std_Dev_VertApprAngle, Std_Dev_HorzApprAngle, Median_RelSpeed, Median_VertRelAngle, Median_HorzRelAngle, Median_SpinRate, Median_SpinAxis, Median_VertBreak, Median_InducedVertBreak, Median_HorzBreak, Median_VertApprAngle, Median_HorzApprAngle, Percentile_25_RelSpeed, Percentile_25_VertRelAngle, Percentile_25_HorzRelAngle, Percentile_25_SpinRate, Percentile_25_SpinAxis, Percentile_25_VertBreak, Percentile_25_InducedVertBreak, Percentile_25_HorzBreak, Percentile_25_VertApprAngle, Percentile_25_HorzApprAngle, Percentile_75_RelSpeed, Percentile_75_VertRelAngle, Percentile_75_HorzRelAngle, Percentile_75_SpinRate, Percentile_75_SpinAxis, Percentile_75_VertBreak, Percentile_75_InducedVertBreak, Percentile_75_HorzBreak, Percentile_75_VertApprAngle, Percentile_75_HorzApprAngle]\n",
            "Index: []\n",
            "\n",
            "[0 rows x 50 columns]\n"
          ]
        }
      ]
    },
    {
      "cell_type": "code",
      "source": [
        "csv = statistics_table.to_csv(\"/content/drive/Shareddrives/USC Baseball/ML Stuff/PitchTypeClassLHPANOVA*.csv\", index=False)"
      ],
      "metadata": {
        "id": "W-fPIFMwm9e7"
      },
      "execution_count": null,
      "outputs": []
    },
    {
      "cell_type": "code",
      "source": [],
      "metadata": {
        "id": "m-myvy17A3bs"
      },
      "execution_count": null,
      "outputs": []
    },
    {
      "cell_type": "markdown",
      "source": [
        "#  Model Creation"
      ],
      "metadata": {
        "id": "XdW_S_aAFqKy"
      }
    },
    {
      "cell_type": "code",
      "execution_count": null,
      "metadata": {
        "id": "MQXy_08zQ-dF"
      },
      "outputs": [],
      "source": [
        "cleanRHP = df3[df3['PitcherThrows'] == \"Right\"]\n",
        "cleanLHP = df3[df3['PitcherThrows'] == \"Left\"]\n",
        "\n",
        "df = cleanRHP"
      ]
    },
    {
      "cell_type": "code",
      "execution_count": null,
      "metadata": {
        "id": "LtmlNufEXMmG"
      },
      "outputs": [],
      "source": [
        "import pandas as pd\n",
        "import numpy as np\n",
        "import glob\n",
        "import os\n",
        "from sklearn.model_selection import train_test_split\n",
        "import matplotlib as plt\n",
        "from sklearn import datasets\n",
        "from sklearn import metrics\n",
        "from sklearn.linear_model import LogisticRegression\n",
        "\n",
        "# sinkers, 4 seam, 2 seam, 1 seam = fastball\n",
        "# cutters = sliders\n",
        "# splitter = changeup\n",
        "\n",
        "# creates list of conditions that determine whether TaggedPitchType is fastball/slider/changeup/curveball\n",
        "conditions = [\n",
        "    (df['TaggedPitchType'] == 'Fastball'),\n",
        "    (df['TaggedPitchType'] == 'Slider'),\n",
        "    (df['TaggedPitchType'] == 'ChangeUp'),\n",
        "    (df['TaggedPitchType'] == 'Curveball'),\n",
        "    (df['TaggedPitchType'] == 'Sinker'),\n",
        "    (df['TaggedPitchType'] == 'Cutter'),\n",
        "    (df['TaggedPitchType'] == 'FourSeamFastBall'),\n",
        "    (df['TaggedPitchType'] == 'Splitter'),\n",
        "    (df['TaggedPitchType'] == 'TwoSeamFastBall')\n",
        "]\n",
        "\n",
        "# creates a list of values to assign for pitch type (1) or not (0)\n",
        "valuesFB = [1, 0, 0, 0, 1, 0, 1, 0, 1]\n",
        "# creates new column determining hit or not and assign values to it based on the conditions\n",
        "df['isFB'] = np.select(conditions, valuesFB)\n",
        "\n",
        "# creates a list of values to assign for pitch type (1) or not (0)\n",
        "valuesSL = [0, 1, 0, 0, 0, 1, 0, 0, 0]\n",
        "# creates new column determining hit or not and assign values to it based on the conditions\n",
        "df['isSL'] = np.select(conditions, valuesSL)\n",
        "\n",
        "# creates a list of values to assign for pitch type (1) or not (0)\n",
        "valuesCH = [0, 0, 1, 0, 0, 0, 0, 1, 0]\n",
        "# creates new column determining hit or not and assign values to it based on the conditions\n",
        "df['isCH'] = np.select(conditions, valuesCH)\n",
        "\n",
        "# creates a list of values to assign for pitch type (1) or not (0)\n",
        "valuesCU = [0, 0, 0, 1, 0, 0, 0, 0, 0]\n",
        "# creates new column determining hit or not and assign values to it based on the conditions\n",
        "df['isCU'] = np.select(conditions, valuesCU)"
      ]
    },
    {
      "cell_type": "code",
      "execution_count": null,
      "metadata": {
        "colab": {
          "base_uri": "https://localhost:8080/"
        },
        "id": "zVlQPMNu7wcY",
        "outputId": "f173ccb3-7051-4089-b5f8-02854181ab8c"
      },
      "outputs": [
        {
          "output_type": "stream",
          "name": "stdout",
          "text": [
            "1    7761\n",
            "0    5300\n",
            "Name: isFB, dtype: int64\n",
            "0    11480\n",
            "1     1581\n",
            "Name: isCH, dtype: int64\n",
            "0    10529\n",
            "1     2532\n",
            "Name: isSL, dtype: int64\n",
            "0    11874\n",
            "1     1187\n",
            "Name: isCU, dtype: int64\n"
          ]
        }
      ],
      "source": [
        "print(df['isFB'].value_counts())\n",
        "print(df['isCH'].value_counts())\n",
        "print(df['isSL'].value_counts())\n",
        "print(df['isCU'].value_counts())"
      ]
    },
    {
      "cell_type": "markdown",
      "source": [
        "# Old ML Model Code"
      ],
      "metadata": {
        "id": "AJhuadLEc2ZH"
      }
    },
    {
      "cell_type": "code",
      "execution_count": null,
      "metadata": {
        "colab": {
          "base_uri": "https://localhost:8080/"
        },
        "id": "D7mHzziV9Ea5",
        "outputId": "5444e9bc-f3d9-4791-fd9e-908895a61c97"
      },
      "outputs": [
        {
          "output_type": "stream",
          "name": "stdout",
          "text": [
            "majority class is: 7761\n",
            "minority class is: 5300\n",
            "total is: 13061\n"
          ]
        }
      ],
      "source": [
        "minority_class = df[df['isFB'] == 0]\n",
        "majority_class = df[df['isFB'] == 1]\n",
        "\n",
        "print(\"majority class is: \" + str(len(majority_class)))\n",
        "print(\"minority class is: \" + str(len(minority_class)))\n",
        "\n",
        "print(\"total is: \" + str(len(majority_class)+len(minority_class)))"
      ]
    },
    {
      "cell_type": "code",
      "execution_count": null,
      "metadata": {
        "id": "kmYzAkzh_ri6"
      },
      "outputs": [],
      "source": [
        "# Shuffle the data to avoid order effects\n",
        "# figure why this don't work\n",
        "balanced_df = balanced_df.sample(frac=1, random_state=42)\n"
      ]
    },
    {
      "cell_type": "code",
      "source": [
        "newDF = df.dropna(subset=['RelSpeed', 'SpinRate', 'SpinAxis', 'InducedVertBreak', 'HorzBreak', 'VertRelAngle', 'HorzRelAngle'])\n",
        "balanced_df = newDF.copy()\n",
        "rel_data = balanced_df[['RelSpeed', 'SpinRate', 'SpinAxis', 'InducedVertBreak', 'HorzBreak', 'VertRelAngle', 'HorzApprAngle']].to_numpy()\n",
        "classification = balanced_df['isFB'].to_numpy()"
      ],
      "metadata": {
        "id": "tXFT7SGOeI5I"
      },
      "execution_count": null,
      "outputs": []
    },
    {
      "cell_type": "code",
      "execution_count": null,
      "metadata": {
        "colab": {
          "base_uri": "https://localhost:8080/"
        },
        "id": "ZFa3RcaSmyzP",
        "outputId": "d199adac-d63c-4b30-ed90-311529fdff59"
      },
      "outputs": [
        {
          "output_type": "stream",
          "name": "stdout",
          "text": [
            "majority class is: 7761\n",
            "minority class is: 5300\n",
            "total is: 13061\n"
          ]
        }
      ],
      "source": [
        "minority = balanced_df[balanced_df['isFB'] == 0]\n",
        "majority = balanced_df[balanced_df['isFB'] == 1]\n",
        "\n",
        "print(\"majority class is: \" + str(len(majority)))\n",
        "print(\"minority class is: \" + str(len(minority)))\n",
        "\n",
        "print(\"total is: \" + str(len(majority)+len(minority)))"
      ]
    },
    {
      "cell_type": "code",
      "execution_count": null,
      "metadata": {
        "id": "X2Md_Z-gjgnu",
        "colab": {
          "base_uri": "https://localhost:8080/"
        },
        "outputId": "3cc412ac-5630-4a2f-8378-bd2f3c5bc77e"
      },
      "outputs": [
        {
          "output_type": "stream",
          "name": "stdout",
          "text": [
            "9142.699999999999\n"
          ]
        }
      ],
      "source": [
        "import numpy as np\n",
        "\n",
        "splitNum = (len(majority)+len(minority))*.7\n",
        "print(splitNum)\n",
        "\n",
        "y = np.unique(classification, return_inverse=True)\n",
        "y_train = y[1][:int(splitNum)]\n",
        "y_test = y[1][int(splitNum):]\n",
        "\n",
        "x = np.unique(classification, return_inverse=True)\n",
        "x_train = rel_data[:int(splitNum)]\n",
        "x_test = rel_data[int(splitNum):]"
      ]
    },
    {
      "cell_type": "markdown",
      "source": [
        "# New ML Model Code"
      ],
      "metadata": {
        "id": "by6QjNou8yA0"
      }
    },
    {
      "cell_type": "code",
      "source": [
        "cleanRHP = df3[df3['PitcherThrows'] == \"Right\"]\n",
        "cleanLHP = df3[df3['PitcherThrows'] == \"Left\"]\n",
        "\n",
        "df5 = cleanRHP"
      ],
      "metadata": {
        "id": "joP3TbZ--vUL"
      },
      "execution_count": null,
      "outputs": []
    },
    {
      "cell_type": "code",
      "execution_count": null,
      "metadata": {
        "id": "tsbcZU879aP4",
        "colab": {
          "base_uri": "https://localhost:8080/"
        },
        "outputId": "1a1684d1-297c-4ff8-e3ca-61bc7b5cc903"
      },
      "outputs": [
        {
          "output_type": "stream",
          "name": "stdout",
          "text": [
            "0 2587.0\n",
            "1 1519.2\n",
            "2 1581\n",
            "3 1780.5\n",
            "Train Total: 5600\n"
          ]
        }
      ],
      "source": [
        "import pandas as pd\n",
        "from sklearn.utils import resample\n",
        "from sklearn.model_selection import train_test_split\n",
        "\n",
        "# Assuming you have a DataFrame df5 with a target column 'pitchType'\n",
        "\n",
        "# Create separate DataFrames for each class\n",
        "fb_class = df5[df5['pitchType'] == 0]\n",
        "sl_class = df5[df5['pitchType'] == 1]\n",
        "ch_class = df5[df5['pitchType'] == 2]\n",
        "cu_class = df5[df5['pitchType'] == 3]\n",
        "\n",
        "# Calculate the desired undersampling factors for the majority class (Fastball)\n",
        "# and keep the minority classes as they are (ratio = 1)\n",
        "desired_ratios = {\n",
        "    0: 1/3,    # For Fastball, keep the minority class size unchanged\n",
        "    1: 3/5,      # For Slider, keep the minority class size unchanged\n",
        "    2: 1,      # For ChangeUp, keep the minority class size unchanged\n",
        "    3: 1.5       # For Curveball, keep the minority class size unchanged\n",
        "}\n",
        "\n",
        "# Undersample the majority class to match the desired ratio and calculate example weights\n",
        "undersampled_classes = []\n",
        "\n",
        "for class_label in [0, 1, 2, 3]:\n",
        "    class_df = df5[df5['pitchType'] == class_label]\n",
        "    desired_ratio = desired_ratios[class_label]\n",
        "\n",
        "    if class_label == 3:\n",
        "      undersampled_class = resample(class_df,\n",
        "                                  replace=True,\n",
        "                                  n_samples=int(len(class_df) * desired_ratio),\n",
        "                                  random_state=42)\n",
        "      print(str(class_label) + \" \" + str(len(class_df) * desired_ratio))\n",
        "\n",
        "    else:\n",
        "        # Undersample the majority classes (Non-curveball pitches)\n",
        "        undersampled_class = resample(class_df,\n",
        "                                      replace=False,\n",
        "                                      n_samples=int(len(class_df) * desired_ratio),\n",
        "                                      random_state=42)\n",
        "        print(str(class_label) + \" \" + str(len(class_df) * desired_ratio))\n",
        "\n",
        "    # Calculate example weights based on the undersampling factor\n",
        "    undersampled_class['example_weight'] = 1 / desired_ratio\n",
        "\n",
        "    undersampled_classes.append(undersampled_class)\n",
        "\n",
        "# Concatenate the undersampled classes\n",
        "balanced_df = pd.concat(undersampled_classes)\n",
        "\n",
        "# Shuffle the data to avoid order effects\n",
        "balanced_df = balanced_df.sample(frac=1, random_state=42)\n",
        "\n",
        "# Split the dataset into features and target\n",
        "rel_data = balanced_df[['RelSpeed', 'SpinRate', 'InducedVertBreak', 'HorzBreak', 'SpinAxis', 'VertRelAngle', 'HorzApprAngle']].to_numpy()\n",
        "classification = balanced_df['pitchType'].to_numpy()\n",
        "\n",
        "# Determine the train-test split\n",
        "sampledTotal = len(balanced_df)\n",
        "trainTotal = int(0.75 * sampledTotal)\n",
        "print(\"Train Total: \" + str(trainTotal))\n",
        "\n",
        "# Split data into training and testing sets\n",
        "x_train = rel_data[:trainTotal]\n",
        "x_test = rel_data[trainTotal:]\n",
        "y_train = classification[:trainTotal]\n",
        "y_test = classification[trainTotal:]\n",
        "sample_weights_train = balanced_df['example_weight'][:trainTotal]\n",
        "sample_weights_test = balanced_df['example_weight'][trainTotal:]"
      ]
    },
    {
      "cell_type": "markdown",
      "source": [
        "# Actual Model"
      ],
      "metadata": {
        "id": "DrQx9tJ_flzc"
      }
    },
    {
      "cell_type": "code",
      "execution_count": null,
      "metadata": {
        "id": "6ouNwt29qfL2"
      },
      "outputs": [],
      "source": [
        "import numpy as np\n",
        "import matplotlib.pyplot as plt\n",
        "from matplotlib.colors import ListedColormap\n",
        "from sklearn.model_selection import train_test_split\n",
        "from sklearn.preprocessing import StandardScaler\n",
        "from sklearn.pipeline import make_pipeline\n",
        "from sklearn.datasets import make_moons, make_circles, make_classification\n",
        "from sklearn.neural_network import MLPClassifier\n",
        "from sklearn.neighbors import KNeighborsClassifier\n",
        "from sklearn.tree import DecisionTreeClassifier\n",
        "from sklearn.ensemble import RandomForestClassifier\n",
        "\n",
        "from sklearn import preprocessing\n",
        "import seaborn as sns\n",
        "from sklearn import metrics\n",
        "\n",
        "names = [\n",
        "    \"Nearest Neighbors\",\n",
        "    \"Decision Tree\",\n",
        "    \"Random Forest\",\n",
        "]\n",
        "\n",
        "classifiers = [\n",
        "    #KNeighborsClassifier(4),\n",
        "    #DecisionTreeClassifier(max_depth=20),\n",
        "    #DecisionTreeClassifier(max_depth=5),\n",
        "    #RandomForestClassifier(max_depth=25, n_estimators=40, max_features=1),\n",
        "    RandomForestClassifier(max_depth=None, n_estimators=50)\n",
        "]"
      ]
    },
    {
      "cell_type": "code",
      "execution_count": null,
      "metadata": {
        "id": "qxLW79_FwZhX"
      },
      "outputs": [],
      "source": [
        "accuracies = []\n",
        "for opt in classifiers:\n",
        "  clf = make_pipeline(StandardScaler(), opt)\n",
        "  clf.fit(x_train, y_train)\n",
        "\n",
        "  y_pred = clf.predict((x_test))\n",
        "  accuracies.append(metrics.accuracy_score(y_test, y_pred))"
      ]
    },
    {
      "cell_type": "code",
      "execution_count": null,
      "metadata": {
        "colab": {
          "base_uri": "https://localhost:8080/"
        },
        "id": "oTJaGMsVpKWB",
        "outputId": "d2723dc7-be22-4469-8ee4-a43f6c8ca4a6"
      },
      "outputs": [
        {
          "output_type": "stream",
          "name": "stdout",
          "text": [
            "              precision    recall  f1-score   support\n",
            "\n",
            "    fastball       0.97      0.97      0.97       616\n",
            "      slider       0.95      0.88      0.92       399\n",
            "    changeup       0.94      0.94      0.94       409\n",
            "   curveball       0.92      0.99      0.96       443\n",
            "\n",
            "    accuracy                           0.95      1867\n",
            "   macro avg       0.95      0.94      0.94      1867\n",
            "weighted avg       0.95      0.95      0.95      1867\n",
            "\n"
          ]
        }
      ],
      "source": [
        "from sklearn.metrics import classification_report\n",
        "target_names = ['fastball', 'slider', 'changeup', 'curveball']\n",
        "print(classification_report(y_test, y_pred, target_names=target_names))"
      ]
    },
    {
      "cell_type": "code",
      "execution_count": null,
      "metadata": {
        "colab": {
          "base_uri": "https://localhost:8080/"
        },
        "id": "FESte-bGrU0J",
        "outputId": "c95057b7-d725-4a6c-e1e2-59383467cea5"
      },
      "outputs": [
        {
          "output_type": "stream",
          "name": "stdout",
          "text": [
            "[0.980862464914519]\n"
          ]
        }
      ],
      "source": [
        "print(accuracies)"
      ]
    },
    {
      "cell_type": "code",
      "execution_count": null,
      "metadata": {
        "colab": {
          "base_uri": "https://localhost:8080/"
        },
        "id": "6B5-ybSfocVL",
        "outputId": "cbeaff73-16e7-4e50-8154-1af68e64c8a5"
      },
      "outputs": [
        {
          "output_type": "stream",
          "name": "stdout",
          "text": [
            "[0.9480449919657205]\n"
          ]
        }
      ],
      "source": [
        "print(accuracies)"
      ]
    },
    {
      "cell_type": "code",
      "execution_count": null,
      "metadata": {
        "colab": {
          "base_uri": "https://localhost:8080/"
        },
        "id": "Dn_iHAoThsBt",
        "outputId": "646e8631-4dcc-4177-ab80-d979aafe5eed"
      },
      "outputs": [
        {
          "output_type": "execute_result",
          "data": {
            "text/plain": [
              "['LHP_CU_PitchModel.joblib']"
            ]
          },
          "metadata": {},
          "execution_count": 310
        }
      ],
      "source": [
        "from sklearn.tree import DecisionTreeClassifier\n",
        "import joblib\n",
        "from joblib import dump\n",
        "\n",
        "import os\n",
        "os.chdir('/content/drive/Shareddrives/USC Baseball/SabermetricModels')\n",
        "\n",
        "# export the trained model to disk\n",
        "joblib.dump(clf, 'UpdatedRHPPitchModel.joblib')"
      ]
    }
  ],
  "metadata": {
    "accelerator": "GPU",
    "colab": {
      "provenance": [],
      "machine_shape": "hm",
      "gpuType": "A100",
      "collapsed_sections": [
        "d0r0q8--3gYK",
        "7H7UadQI3gBM",
        "daZN2egdFjse",
        "XdW_S_aAFqKy",
        "eBl0YLw4fpgw"
      ]
    },
    "gpuClass": "standard",
    "kernelspec": {
      "display_name": "Python 3",
      "name": "python3"
    },
    "language_info": {
      "name": "python"
    }
  },
  "nbformat": 4,
  "nbformat_minor": 0
}